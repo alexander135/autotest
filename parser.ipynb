{
 "cells": [
  {
   "cell_type": "code",
   "execution_count": 342,
   "metadata": {},
   "outputs": [],
   "source": [
    "import requests\n",
    "import urllib\n",
    "import re\n",
    "import json\n",
    "import pickle\n",
    "import yaml\n",
    "import pymongo\n",
    "import pprint\n",
    "from datetime import datetime\n",
    "from crontab import CronTab"
   ]
  },
  {
   "cell_type": "code",
   "execution_count": 344,
   "metadata": {},
   "outputs": [],
   "source": [
    "#TODO\n",
    "#номер дата время ссылка\n",
    "#mongo   PATH: 'http://127.0.0.1:8001/job/test/7/testReport/api/python?pretty=true'\n",
    "#возможность прокручивать\n",
    "# конфиг yml      sql alchemia    автообновление время скрипта\n",
    "#counter yaml sum requirements parse zip\n",
    "\n",
    "\n",
    "# возможно перенести ид и рк из конфига в бд полностью???"
   ]
  },
  {
   "cell_type": "code",
   "execution_count": 371,
   "metadata": {},
   "outputs": [
    {
     "name": "stdout",
     "output_type": "stream",
     "text": [
      "PATH: http://127.0.0.1:8001/job/\n",
      "name:\n",
      "  test: {id: 44, pk: 25}\n",
      "to_sum:\n",
      "  1: [Tests, SmokeTests]\n",
      "  2: [FunctionalTests]\n",
      "\n"
     ]
    },
    {
     "data": {
      "text/plain": [
       "['Tests', 'SmokeTests']"
      ]
     },
     "execution_count": 371,
     "metadata": {},
     "output_type": "execute_result"
    }
   ],
   "source": [
    "config = yaml.load(open('config.yaml'))\n",
    "PATH = 'http://127.0.0.1:8001/job/test/7/testReport/api/python?pretty=true'\n",
    "print(yaml.dump(config))\n",
    "config['to_sum'][1]"
   ]
  },
  {
   "cell_type": "code",
   "execution_count": 239,
   "metadata": {},
   "outputs": [],
   "source": [
    "obj = eval(urllib.request.urlopen(PATH).read())\n"
   ]
  },
  {
   "cell_type": "code",
   "execution_count": 373,
   "metadata": {},
   "outputs": [
    {
     "name": "stdout",
     "output_type": "stream",
     "text": [
      "already up to date\n"
     ]
    }
   ],
   "source": [
    "for curname in config['name'].keys():\n",
    "    curpath = config['PATH'] + curname + '/lastCompletedBuild/api/python?pretty=true'\n",
    "    cur = eval(urllib.request.urlopen(curpath).read())\n",
    "    if int(cur['id']) != (config['name'][curname]['id']):\n",
    "            names = []\n",
    "            res = {\"job\":{'name': curname,'id':int(cur['id']), 'date': datetime.utcfromtimestamp(cur['timestamp']/1000).strftime('%Y-%m-%d %H:%M:%S')}}\n",
    "            path = config['PATH'] + curname + '/' + cur['id'] + '/' + curname+ 'Report/api/python?pretty=true'\n",
    "            obj = eval(urllib.request.urlopen(path).read())\n",
    "            for i in obj['suites'][0]['cases']:\n",
    "                name = re.findall(r'\\..+\\.', i['className'])[0].split('.')[1]\n",
    "                if name not in res.keys():\n",
    "                    names.append(name)\n",
    "                    res[name] = {'passed':0, 'failed':0, 'skipped':0, 'total':0}\n",
    "                res[name]['total'] += 1\n",
    "                if i['skipped'] == False:\n",
    "                    if i['status'] == 'PASSED':\n",
    "                        res[name]['passed'] += 1\n",
    "                    else:\n",
    "                        res[name]['failed'] += 1\n",
    "                else:\n",
    "                    res[name]['skipped'] += 1\n",
    "\n",
    "            for name in names:\n",
    "                res[name]['succeed'] = round(res[name]['passed']/(res[name]['passed'] + res[name]['failed'])*100, 2)\n",
    "            \n",
    "            with open(curname + '.json', 'w') as file:\n",
    "                      json.dump(res, file)\n",
    "            \n",
    "            mongoSave(res,curname)\n",
    "            \n",
    "            config['name'][curname]['id'] = int(cur['id'])\n",
    "            config['name'][curname]['pk'] += 1\n",
    "            \n",
    "            with open('config.yaml', 'w') as f:\n",
    "                yaml.dump(config, f)\n",
    "                \n",
    "            print('Done')\n",
    "    else:\n",
    "        print('already up to date')\n",
    "        \n",
    "        "
   ]
  },
  {
   "cell_type": "code",
   "execution_count": 275,
   "metadata": {},
   "outputs": [],
   "source": [
    "#Todo attach mongo DB\n",
    "def mongoSave(result, jobname):\n",
    "    conn = pymongo.MongoClient()\n",
    "    db = conn.testresults\n",
    "    coll = db[jobname]\n",
    "    coll.insert_one(result)"
   ]
  },
  {
   "cell_type": "code",
   "execution_count": 323,
   "metadata": {},
   "outputs": [
    {
     "name": "stdout",
     "output_type": "stream",
     "text": [
      "_id\n",
      "job\n",
      "Tests\n"
     ]
    }
   ],
   "source": [
    "conn = pymongo.MongoClient()\n",
    "db = conn.testresults\n",
    "coll = db['test']\n",
    "c = coll.find_one({\"job.id\": \"17\"})\n",
    "for name in c:\n",
    "    print(name)"
   ]
  },
  {
   "cell_type": "code",
   "execution_count": 318,
   "metadata": {},
   "outputs": [],
   "source": [
    "# res = {}\n",
    "# for i in obj['suites'][0]['cases']:\n",
    "#     name = re.findall(r'\\..+\\.', i['className'])[0].split('.')[1]\n",
    "#     if name not in res.keys() :\n",
    "#         res[name] = {'passed':0, 'failed':0, 'skipped':0, 'total':0}\n",
    "#     res[name]['total'] += 1\n",
    "#     if i['skipped'] == False:\n",
    "#         if i['status'] == 'PASSED':\n",
    "#             res[name]['passed'] += 1\n",
    "#         else:\n",
    "#             res[name]['failed'] += 1\n",
    "#     else:\n",
    "#         res[name]['skipped'] += 1\n",
    "        \n",
    "# for name in res.keys():\n",
    "#     res[name]['succeed'] = round(res[name]['passed']/(res[name]['passed'] + res[name]['failed'])*100, 2)\n",
    "    \n",
    "# with open('results.json', 'w') as file:\n",
    "#           json.dump(res, file)\n",
    "        \n",
    "# try:           \n",
    "#     with open ('data.pickle', 'rb') as f:\n",
    "#         data_graf = pickle.load(f)\n",
    "# except:\n",
    "#     data_graf = []\n",
    "        \n",
    "    \n",
    "# for name in res:\n",
    "#     data_graf.append(res[name]['succeed'])\n",
    "# with open ('data.pickle', 'wb') as data:\n",
    "#     pickle.dump(data_graf, data)\n",
    "    "
   ]
  },
  {
   "cell_type": "code",
   "execution_count": 258,
   "metadata": {},
   "outputs": [
    {
     "name": "stdout",
     "output_type": "stream",
     "text": [
      "2019-04-03 12:29:35\n"
     ]
    }
   ],
   "source": [
    "res\n",
    "print(datetime.utcfromtimestamp(cur['timestamp']/1000).strftime('%Y-%m-%d %H:%M:%S'))"
   ]
  },
  {
   "cell_type": "code",
   "execution_count": 288,
   "metadata": {},
   "outputs": [
    {
     "name": "stdout",
     "output_type": "stream",
     "text": [
      "17\n"
     ]
    }
   ],
   "source": [
    "config['name']\n",
    "for name in config['name'].keys():\n",
    "    print(config['name'][name])"
   ]
  },
  {
   "cell_type": "code",
   "execution_count": 339,
   "metadata": {},
   "outputs": [],
   "source": [
    "my_cron = CronTab(user = 'alexandroleshko')\n",
    "my_cron.remove_all()\n",
    "my_cron.write()"
   ]
  },
  {
   "cell_type": "code",
   "execution_count": null,
   "metadata": {},
   "outputs": [],
   "source": []
  }
 ],
 "metadata": {
  "kernelspec": {
   "display_name": "Python 3",
   "language": "python",
   "name": "python3"
  },
  "language_info": {
   "codemirror_mode": {
    "name": "ipython",
    "version": 3
   },
   "file_extension": ".py",
   "mimetype": "text/x-python",
   "name": "python",
   "nbconvert_exporter": "python",
   "pygments_lexer": "ipython3",
   "version": "3.6.5"
  }
 },
 "nbformat": 4,
 "nbformat_minor": 2
}

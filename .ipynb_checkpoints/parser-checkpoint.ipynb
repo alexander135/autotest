{
 "cells": [
  {
   "cell_type": "code",
   "execution_count": 251,
   "metadata": {},
   "outputs": [],
   "source": [
    "import requests\n",
    "import urllib\n",
    "import re\n",
    "import json\n",
    "import pickle\n",
    "import yaml\n",
    "import pymongo\n",
    "from datetime import datetime"
   ]
  },
  {
   "cell_type": "code",
   "execution_count": 252,
   "metadata": {},
   "outputs": [],
   "source": [
    "#TODO\n",
    "#номер дата время ссылка\n",
    "#mongo   PATH: 'http://127.0.0.1:8001/job/test/7/testReport/api/python?pretty=true'\n",
    "#возможность прокручивать\n",
    "# конфиг yml      sql alchemia    автообновление время скрипта\n",
    "\n",
    "\n"
   ]
  },
  {
   "cell_type": "code",
   "execution_count": 238,
   "metadata": {},
   "outputs": [
    {
     "data": {
      "text/plain": [
       "{'PATH': 'http://127.0.0.1:8001/job/', 'name': {'test': 8}}"
      ]
     },
     "execution_count": 238,
     "metadata": {},
     "output_type": "execute_result"
    }
   ],
   "source": [
    "config = yaml.load(open('config.yaml'))\n",
    "PATH = 'http://127.0.0.1:8001/job/test/7/testReport/api/python?pretty=true'\n",
    "config\n"
   ]
  },
  {
   "cell_type": "code",
   "execution_count": 239,
   "metadata": {},
   "outputs": [],
   "source": [
    "obj = eval(urllib.request.urlopen(PATH).read())\n"
   ]
  },
  {
   "cell_type": "code",
   "execution_count": 282,
   "metadata": {},
   "outputs": [
    {
     "name": "stdout",
     "output_type": "stream",
     "text": [
      "Done\n"
     ]
    }
   ],
   "source": [
    "for curname in config['name'].keys():\n",
    "    curpath = config['PATH'] + curname + '/lastCompletedBuild/api/python?pretty=true'\n",
    "    cur = eval(urllib.request.urlopen(curpath).read())\n",
    "    if int(cur['id']) != (config['name'][curname]):\n",
    "            names = []\n",
    "            res = {\"job\":{'name': curname,'id':cur['id'] 'date': datetime.utcfromtimestamp(cur['timestamp']/1000).strftime('%Y-%m-%d %H:%M:%S')}}\n",
    "            path = config['PATH'] + curname + '/' + cur['id'] + '/' + curname+ 'Report/api/python?pretty=true'\n",
    "            obj = eval(urllib.request.urlopen(path).read())\n",
    "            for i in obj['suites'][0]['cases']:\n",
    "                name = re.findall(r'\\..+\\.', i['className'])[0].split('.')[1]\n",
    "                if name not in res.keys():\n",
    "                    names.append(name)\n",
    "                    res[name] = {'passed':0, 'failed':0, 'skipped':0, 'total':0}\n",
    "                res[name]['total'] += 1\n",
    "                if i['skipped'] == False:\n",
    "                    if i['status'] == 'PASSED':\n",
    "                        res[name]['passed'] += 1\n",
    "                    else:\n",
    "                        res[name]['failed'] += 1\n",
    "                else:\n",
    "                    res[name]['skipped'] += 1\n",
    "\n",
    "            for name in names:\n",
    "                res[name]['succeed'] = round(res[name]['passed']/(res[name]['passed'] + res[name]['failed'])*100, 2)\n",
    "            \n",
    "            with open(curname + '.json', 'w') as file:\n",
    "                      json.dump(res, file)\n",
    "            \n",
    "            mongoSave(res,curname)\n",
    "            \n",
    "            config['name'][curname] = int(cur['id'])\n",
    "            \n",
    "            with open('config.yaml', 'w') as f:\n",
    "                yaml.dump(config, f)\n",
    "                \n",
    "            print('Done')\n",
    "    else:\n",
    "        print('already up to date')\n",
    "        \n",
    "        "
   ]
  },
  {
   "cell_type": "code",
   "execution_count": 275,
   "metadata": {},
   "outputs": [],
   "source": [
    "#Todo attach mongo DB\n",
    "def mongoSave(result, jobname):\n",
    "    conn = pymongo.MongoClient()\n",
    "    db = conn.testresults\n",
    "    coll = db[jobname]\n",
    "    coll.insert_one(result)"
   ]
  },
  {
   "cell_type": "code",
   "execution_count": 279,
   "metadata": {},
   "outputs": [
    {
     "data": {
      "text/plain": [
       "{'name': 'test',\n",
       " 'date': '2019-04-06 16:35:27',\n",
       " 'Tests': {'passed': 110,\n",
       "  'failed': 6,\n",
       "  'skipped': 14,\n",
       "  'total': 130,\n",
       "  'succeed': 94.83},\n",
       " '_id': ObjectId('5ca8d552f13bc4117603fcf8')}"
      ]
     },
     "execution_count": 279,
     "metadata": {},
     "output_type": "execute_result"
    }
   ],
   "source": [
    "res"
   ]
  },
  {
   "cell_type": "code",
   "execution_count": 264,
   "metadata": {},
   "outputs": [],
   "source": [
    "# res = {}\n",
    "# for i in obj['suites'][0]['cases']:\n",
    "#     name = re.findall(r'\\..+\\.', i['className'])[0].split('.')[1]\n",
    "#     if name not in res.keys() :\n",
    "#         res[name] = {'passed':0, 'failed':0, 'skipped':0, 'total':0}\n",
    "#     res[name]['total'] += 1\n",
    "#     if i['skipped'] == False:\n",
    "#         if i['status'] == 'PASSED':\n",
    "#             res[name]['passed'] += 1\n",
    "#         else:\n",
    "#             res[name]['failed'] += 1\n",
    "#     else:\n",
    "#         res[name]['skipped'] += 1\n",
    "        \n",
    "# for name in res.keys():\n",
    "#     res[name]['succeed'] = round(res[name]['passed']/(res[name]['passed'] + res[name]['failed'])*100, 2)\n",
    "    \n",
    "# with open('results.json', 'w') as file:\n",
    "#           json.dump(res, file)\n",
    "        \n",
    "# try:           \n",
    "#     with open ('data.pickle', 'rb') as f:\n",
    "#         data_graf = pickle.load(f)\n",
    "# except:\n",
    "#     data_graf = []\n",
    "        \n",
    "    \n",
    "# for name in res:\n",
    "#     data_graf.append(res[name]['succeed'])\n",
    "# with open ('data.pickle', 'wb') as data:\n",
    "#     pickle.dump(data_graf, data)\n",
    "    "
   ]
  },
  {
   "cell_type": "code",
   "execution_count": 258,
   "metadata": {},
   "outputs": [
    {
     "name": "stdout",
     "output_type": "stream",
     "text": [
      "2019-04-03 12:29:35\n"
     ]
    }
   ],
   "source": [
    "res\n",
    "print(datetime.utcfromtimestamp(cur['timestamp']/1000).strftime('%Y-%m-%d %H:%M:%S'))"
   ]
  },
  {
   "cell_type": "code",
   "execution_count": 59,
   "metadata": {},
   "outputs": [
    {
     "data": {
      "text/plain": [
       "{'testActions': [],\n",
       " 'age': 2,\n",
       " 'className': '[default] .Tests.TestCancelTrade.TestCancelTrade',\n",
       " 'duration': 48.50244,\n",
       " 'errorDetails': 'AssertionError: TestCancelTrade: NEGATIVE TEST FAILED',\n",
       " 'errorStackTrace': 'trade_type = \\'repo\\'\\n\\n    @pytest.mark.positive_false\\n    @pytest.mark.parametrize(\\'trade_type\\', [\"repo\", \"negdeal\"])\\n    def test_negative(trade_type):\\n        \"\"\"Test transactions with incorrect parameters\"\"\"\\n        global connection, test_name, params\\n        bad_params = Data.bad_params.copy()\\n        if trade_type == \"repo\":\\n            bad_params[\"BUYSELL\"][1] = (\"B\", \"TE_MSG_CANCEL_REPORT_OK\")\\n        else:\\n            bad_params[\"BUYSELL\"][1] = (\"B\", \"TE_MSG_USTRADE_CAN_NOT_VALIDATE\")\\n        # test case with bad params\\n        ok = set_trade(trade_type)\\n        if ok:\\n            ok = CheckTE.do_transaction_incorrect(connection, \"CANCEL_TRADE\", params, bad_params)\\n        res = ok\\n    \\n        # test case with mutli cancel\\n        set_trade(trade_type)\\n        param1 = copy.deepcopy(params)\\n        set_trade(trade_type)\\n        param2 = copy.deepcopy(params)\\n        ok = multi_cancel(connection, param1, param2)\\n    \\n        res = res and ok\\n    \\n>       TstOrg.tst_result(False, test_name, res)\\n\\nTests/TestCancelTrade/TestCancelTrade.py:170: \\n_ _ _ _ _ _ _ _ _ _ _ _ _ _ _ _ _ _ _ _ _ _ _ _ _ _ _ _ _ _ _ _ _ _ _ _ _ _ _ _ \\n\\nis_positive = False, testname = \\'TestCancelTrade\\', is_passed = False\\n\\n    def tst_result(is_positive, testname, is_passed):\\n        \"\"\"Finalizes test: shows result and informs pytest\"\"\"\\n        s = \"{0}: {1} TEST {2}\".format(testname, Utils.positive(is_positive), Utils.passed(is_passed))\\n        logging.info(\"******* {0} ********\".format(s))\\n>       assert is_passed, s\\nE       AssertionError: TestCancelTrade: NEGATIVE TEST FAILED\\n\\nCommon/TstOrg.py:161: AssertionError',\n",
       " 'failedSince': 6,\n",
       " 'name': 'test_negative[repo]',\n",
       " 'skipped': False,\n",
       " 'skippedMessage': None,\n",
       " 'status': 'FAILED',\n",
       " 'stderr': \"2019-03-12 09:57:35,661 INFO: ======= TestCancelTrade: TEST STARTED (interface IFC_TradeSE) =======\\n2019-03-12 09:57:35,662 INFO: CONNECT as 'MU1111100001' with parameters: {'SERVICE': 'cifond_dev_gateway', 'LANGUAGE': 'English', 'LOGFOLDER': '/tmp', 'USERID': 'MU1111100001', 'SERVER': 'CIFOND_DEV_GATEWAY', 'BROADCAST': '10.50.1.107', 'INTERFACE': 'IFC_TradeSE', 'PASSWORD': ''} LoadSec=False\\n2019-03-12 09:57:37,763 INFO: Connection established\\n2019-03-12 09:57:37,763 INFO: Interface object IFC_TradeSE is added to list.\\n2019-03-12 09:57:37,766 INFO: Starting Service Root connection ...\\n2019-03-12 09:57:37,767 INFO: CONNECT as 'ROOTSERV' with parameters: {'LANGUAGE': 'English', 'SERVICE': 'cifond_dev_gateway', 'LOGFOLDER': '/tmp', 'USERID': 'ROOTSERV', 'SERVER': 'CIFOND_DEV_GATEWAY', 'BROADCAST': '10.50.1.107', 'INTERFACE': 'IFC_TradeSE', 'PASSWORD': ''} LoadSec=True\\n2019-03-12 09:58:15,662 INFO: Connection established\\n2019-03-12 09:58:15,662 INFO: Interface object IFC_TradeSE is in list already.\\n2019-03-12 09:58:15,663 INFO: CONNECT as 'MU2222200001' with parameters: {'LANGUAGE': 'English', 'SERVICE': 'cifond_dev_gateway', 'LOGFOLDER': '/tmp', 'USERID': 'MU2222200001', 'SERVER': 'CIFOND_DEV_GATEWAY', 'BROADCAST': '10.50.1.107', 'INTERFACE': 'IFC_TradeSE', 'PASSWORD': ''} LoadSec=False\\n2019-03-12 09:58:17,760 INFO: Connection established\\n2019-03-12 09:58:17,760 INFO: Interface object IFC_TradeSE is in list already.\\n2019-03-12 09:58:20,070 INFO: In table TRDACC looking for all records where {'FIRMUSE': 'U', 'FIRMID': 'MC1111100000'}\\n2019-03-12 09:58:21,771 INFO: In table TRDACC looking for all records where {'FIRMUSE': 'U', 'FIRMID': 'MC1111100000'}\\n2019-03-12 09:58:23,537 INFO: In table TRDACC looking for all records where {'FIRMUSE': 'U', 'FIRMID': 'MC2222200000'}\\n2019-03-12 09:58:24,146 INFO: --- TestCancelTrade: setup_module finished ---\\n2019-03-12 09:58:24,148 INFO: EXT_REPO_COMPLEX_NEGDEAL transaction parameters: {'ACCOUNT': 'L01+00001F00', 'BUYSELL': 'S', 'LOWERDISCOUNT': Decimal('2.0000'), 'UPPERDISCOUNT': Decimal('9.0000'), 'REFUNDRATE': 0, 'SECBOARD': 'RPMA', 'REPORATE': Decimal('5.0000'), 'CPBROKERREF': 'ExtRepComplNegdl-2', 'STARTDISCOUNT': Decimal('5.0000'), 'SECCODE': 'LKOH', 'CPFIRMID': 'MC1111100000', 'CLIENTCODE': '2330450', 'BLOCKSECURITIES': 'N', 'CPACCOUNT': 'L01+00002F00', 'REPOTERM': 1, 'SETTLECODE': 'S0', 'CPCLIENTCODE': '2330458', 'BROKERREF': 'ExtRepComplNegdl-1', 'QUANTITY': 1}\\n2019-03-12 09:58:24,149 INFO: EXT_REPO_COMPLEX_NEGDEAL transaction request: [ ACCOUNT: 'L01+00001F00', SECBOARD: 'RPMA', SECCODE: 'LKOH        ', CPFIRMID: 'MC1111100000', QUANTITY: '0000000000000001', BROKERREF: 'ExtRepComplNegdl-1  ', MATCHREF: '          ', CPACCOUNT: 'L01+00002F00', CPBROKERREF: 'ExtRepComplNegdl-2  ', SETTLECODE: 'S0          ', EXTREF: '            ', REFUNDRATE: '000000000', REPORATE: '000050000', REPOORDERVALUE: '                ', REPOTERM: '0001', STARTDISCOUNT: '000050000', LOWERDISCOUNT: '000020000', UPPERDISCOUNT: '000090000', BLOCKSECURITIES: 'N', CLIENTCODE: '2330450     ', CPCLIENTCODE: '2330458     ' ]\\n2019-03-12 09:58:24,151 INFO: EXT_REPO_COMPLEX_NEGDEAL transaction execution time. On client: 0.00239896774292 sec. Connected: MU1111100001#x00\\n2019-03-12 09:58:24,151 INFO: EXT_REPO_COMPLEX_NEGDEAL transaction result: ErrCode=0 Message='(124) ������ N 18047953839 �� ����������� ����������� ������ �������������'\\n2019-03-12 09:58:24,152 INFO:  --- Check transaction results. Expected message numbers: (124#)\\n2019-03-12 09:58:24,152 INFO: Check PASSED --- Check transaction results. Expected message numbers: (124#)\\n2019-03-12 09:58:24,153 ERROR: Cannot find trade in USTRADES table!\\n2019-03-12 09:58:24,154 INFO: EXT_REPO_COMPLEX_NEGDEAL transaction parameters: {'ACCOUNT': 'L01+00001F00', 'BUYSELL': 'S', 'LOWERDISCOUNT': Decimal('2.0000'), 'UPPERDISCOUNT': Decimal('9.0000'), 'REFUNDRATE': 0, 'SECBOARD': 'RPMA', 'REPORATE': Decimal('5.0000'), 'CPBROKERREF': 'ExtRepComplNegdl-2', 'STARTDISCOUNT': Decimal('5.0000'), 'SECCODE': 'LKOH', 'CPFIRMID': 'MC1111100000', 'CLIENTCODE': '2330450', 'BLOCKSECURITIES': 'N', 'CPACCOUNT': 'L01+00002F00', 'REPOTERM': 1, 'SETTLECODE': 'S0', 'CPCLIENTCODE': '2330458', 'BROKERREF': 'ExtRepComplNegdl-1', 'QUANTITY': 1}\\n2019-03-12 09:58:24,154 INFO: EXT_REPO_COMPLEX_NEGDEAL transaction request: [ ACCOUNT: 'L01+00001F00', SECBOARD: 'RPMA', SECCODE: 'LKOH        ', CPFIRMID: 'MC1111100000', QUANTITY: '0000000000000001', BROKERREF: 'ExtRepComplNegdl-1  ', MATCHREF: '          ', CPACCOUNT: 'L01+00002F00', CPBROKERREF: 'ExtRepComplNegdl-2  ', SETTLECODE: 'S0          ', EXTREF: '            ', REFUNDRATE: '000000000', REPORATE: '000050000', REPOORDERVALUE: '                ', REPOTERM: '0001', STARTDISCOUNT: '000050000', LOWERDISCOUNT: '000020000', UPPERDISCOUNT: '000090000', BLOCKSECURITIES: 'N', CLIENTCODE: '2330450     ', CPCLIENTCODE: '2330458     ' ]\\n2019-03-12 09:58:24,155 INFO: EXT_REPO_COMPLEX_NEGDEAL transaction execution time. On client: 0.000876903533936 sec. Connected: MU1111100001#x00\\n2019-03-12 09:58:24,155 INFO: EXT_REPO_COMPLEX_NEGDEAL transaction result: ErrCode=0 Message='(124) ������ N 18047953841 �� ����������� ����������� ������ �������������'\\n2019-03-12 09:58:24,156 INFO:  --- Check transaction results. Expected message numbers: (124#)\\n2019-03-12 09:58:24,156 INFO: Check PASSED --- Check transaction results. Expected message numbers: (124#)\\n2019-03-12 09:58:24,158 INFO: EXT_REPO_COMPLEX_NEGDEAL transaction parameters: {'ACCOUNT': 'L01+00001F00', 'BUYSELL': 'S', 'LOWERDISCOUNT': Decimal('2.0000'), 'UPPERDISCOUNT': Decimal('9.0000'), 'REFUNDRATE': 0, 'SECBOARD': 'RPMA', 'REPORATE': Decimal('5.0000'), 'CPBROKERREF': 'ExtRepComplNegdl-2', 'STARTDISCOUNT': Decimal('5.0000'), 'SECCODE': 'LKOH', 'CPFIRMID': 'MC1111100000', 'CLIENTCODE': '2330450', 'BLOCKSECURITIES': 'N', 'CPACCOUNT': 'L01+00002F00', 'REPOTERM': 1, 'SETTLECODE': 'S0', 'CPCLIENTCODE': '2330458', 'BROKERREF': 'ExtRepComplNegdl-1', 'QUANTITY': 1}\\n2019-03-12 09:58:24,159 INFO: EXT_REPO_COMPLEX_NEGDEAL transaction request: [ ACCOUNT: 'L01+00001F00', SECBOARD: 'RPMA', SECCODE: 'LKOH        ', CPFIRMID: 'MC1111100000', QUANTITY: '0000000000000001', BROKERREF: 'ExtRepComplNegdl-1  ', MATCHREF: '          ', CPACCOUNT: 'L01+00002F00', CPBROKERREF: 'ExtRepComplNegdl-2  ', SETTLECODE: 'S0          ', EXTREF: '            ', REFUNDRATE: '000000000', REPORATE: '000050000', REPOORDERVALUE: '                ', REPOTERM: '0001', STARTDISCOUNT: '000050000', LOWERDISCOUNT: '000020000', UPPERDISCOUNT: '000090000', BLOCKSECURITIES: 'N', CLIENTCODE: '2330450     ', CPCLIENTCODE: '2330458     ' ]\\n2019-03-12 09:58:24,160 INFO: EXT_REPO_COMPLEX_NEGDEAL transaction execution time. On client: 0.00108599662781 sec. Connected: MU1111100001#x00\\n2019-03-12 09:58:24,160 INFO: EXT_REPO_COMPLEX_NEGDEAL transaction result: ErrCode=0 Message='(124) ������ N 18047953843 �� ����������� ����������� ������ �������������'\\n2019-03-12 09:58:24,160 INFO:  --- Check transaction results. Expected message numbers: (124#)\\n2019-03-12 09:58:24,160 INFO: Check PASSED --- Check transaction results. Expected message numbers: (124#)\\n2019-03-12 09:58:24,162 INFO: CANCEL_TRADE Raw transaction request: 020000000000000001S000000000003S000000000005S\\n2019-03-12 09:58:24,163 INFO: CANCEL_TRADE transaction result: {'MSG': '\\\\xd0\\\\x9e\\\\xd0\\\\xa8\\\\xd0\\\\x98\\\\xd0\\\\x91\\\\xd0\\\\x9a\\\\xd0\\\\x90: (452) \\\\xd0\\\\x92\\\\xd1\\\\x8b\\\\xd0\\\\xb1\\\\xd1\\\\x80\\\\xd0\\\\xb0\\\\xd0\\\\xbd\\\\xd0\\\\xbd\\\\xd1\\\\x8b\\\\xd0\\\\xb5 \\\\xd1\\\\x81\\\\xd0\\\\xb4\\\\xd0\\\\xb5\\\\xd0\\\\xbb\\\\xd0\\\\xba\\\\xd0\\\\xb8 \\\\xd0\\\\xbd\\\\xd0\\\\xb5 \\\\xd0\\\\xbc\\\\xd0\\\\xbe\\\\xd0\\\\xb3\\\\xd1\\\\x83\\\\xd1\\\\x82 \\\\xd0\\\\xb1\\\\xd1\\\\x8b\\\\xd1\\\\x82\\\\xd1\\\\x8c \\\\xd0\\\\xb2\\\\xd0\\\\xba\\\\xd0\\\\xbb\\\\xd1\\\\x8e\\\\xd1\\\\x87\\\\xd0\\\\xb5\\\\xd0\\\\xbd\\\\xd1\\\\x8b \\\\xd0\\\\xb2 \\\\xd0\\\\xbe\\\\xd0\\\\xb4\\\\xd0\\\\xb8\\\\xd0\\\\xbd \\\\xd0\\\\xbe\\\\xd1\\\\x82\\\\xd1\\\\x87\\\\xd0\\\\xb5\\\\xd1\\\\x82', 'TRANSRESULT': TransactionResult { TransactionReply { errcode: '0', msgcode: '452', msgtext: '������: (452) ��������� ������ �� ����� ���� �������� � ���� �����', params: TransactionParam { name: 'ERR', value: '452' }, TransactionParam { name: 'ST', value: '095824162510' },  },  }, 'TIMEONCLIENT': 0.00080704689025878906, 'ERR': 0}\\n2019-03-12 09:58:24,163 INFO:  --- Check transaction results. Expected message numbers: (452)\\n2019-03-12 09:58:24,163 INFO: Check PASSED --- Check transaction results. Expected message numbers: (452)\\n2019-03-12 09:58:24,163 INFO: ******* TestCancelTrade: NEGATIVE TEST FAILED ********\\n\",\n",
       " 'stdout': None}"
      ]
     },
     "execution_count": 59,
     "metadata": {},
     "output_type": "execute_result"
    }
   ],
   "source": [
    "a['suites'][0]['cases'][0]"
   ]
  }
 ],
 "metadata": {
  "kernelspec": {
   "display_name": "Python 3",
   "language": "python",
   "name": "python3"
  },
  "language_info": {
   "codemirror_mode": {
    "name": "ipython",
    "version": 3
   },
   "file_extension": ".py",
   "mimetype": "text/x-python",
   "name": "python",
   "nbconvert_exporter": "python",
   "pygments_lexer": "ipython3",
   "version": "3.6.5"
  }
 },
 "nbformat": 4,
 "nbformat_minor": 2
}

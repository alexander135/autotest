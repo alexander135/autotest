{
 "cells": [
  {
   "cell_type": "code",
   "execution_count": 428,
   "metadata": {},
   "outputs": [],
   "source": [
    "import requests\n",
    "import urllib\n",
    "import re\n",
    "import json\n",
    "import pickle\n",
    "import yaml\n",
    "import pymongo\n",
    "import pprint\n",
    "from datetime import datetime\n",
    "from crontab import CronTab\n",
    "import base64\n"
   ]
  },
  {
   "cell_type": "code",
   "execution_count": 482,
   "metadata": {},
   "outputs": [
    {
     "ename": "TypeError",
     "evalue": "Tuple or struct_time argument required",
     "output_type": "error",
     "traceback": [
      "\u001b[0;31m---------------------------------------------------------------------------\u001b[0m",
      "\u001b[0;31mTypeError\u001b[0m                                 Traceback (most recent call last)",
      "\u001b[0;32m<ipython-input-482-cc69a0e39aee>\u001b[0m in \u001b[0;36m<module>\u001b[0;34m()\u001b[0m\n\u001b[1;32m      6\u001b[0m \u001b[0;31m#loger конф в отдельный файл описание развертывания настроить ролевую политику jenkins последний запуск скрипта\u001b[0m\u001b[0;34m\u001b[0m\u001b[0;34m\u001b[0m\u001b[0m\n\u001b[1;32m      7\u001b[0m \u001b[0;32mimport\u001b[0m \u001b[0mtime\u001b[0m\u001b[0;34m\u001b[0m\u001b[0m\n\u001b[0;32m----> 8\u001b[0;31m \u001b[0mprint\u001b[0m\u001b[0;34m(\u001b[0m\u001b[0mtime\u001b[0m\u001b[0;34m.\u001b[0m\u001b[0mstrftime\u001b[0m\u001b[0;34m(\u001b[0m\u001b[0;34m'%Y-%m-%d %H:%M:%S'\u001b[0m\u001b[0;34m,\u001b[0m \u001b[0;34m(\u001b[0m\u001b[0mtime\u001b[0m\u001b[0;34m.\u001b[0m\u001b[0mctime\u001b[0m\u001b[0;34m(\u001b[0m\u001b[0;34m)\u001b[0m\u001b[0;34m)\u001b[0m\u001b[0;34m)\u001b[0m\u001b[0;34m)\u001b[0m\u001b[0;34m\u001b[0m\u001b[0m\n\u001b[0m\u001b[1;32m      9\u001b[0m \u001b[0;34m\u001b[0m\u001b[0m\n\u001b[1;32m     10\u001b[0m \u001b[0;31m# возможно перенести ид и рк из конфига в бд полностью???\u001b[0m\u001b[0;34m\u001b[0m\u001b[0;34m\u001b[0m\u001b[0m\n",
      "\u001b[0;31mTypeError\u001b[0m: Tuple or struct_time argument required"
     ]
    }
   ],
   "source": [
    "#TODO\n",
    "#номер дата время ссылка\n",
    "#mongo   PATH: 'http://127.0.0.1:8001/job/test/7/testReport/api/python?pretty=true'\n",
    "#возможность прокручивать\n",
    "# конфиг yml      sql alchemia    автообновление время скрипта\n",
    "#loger конф в отдельный файл описание развертывания настроить ролевую политику jenkins последний запуск скрипта\n",
    "import time\n",
    "print(time.strftime('%Y-%m-%d %H:%M:%S', time.ctime()))\n",
    "\n",
    "# возможно перенести ид и рк из конфига в бд полностью???"
   ]
  },
  {
   "cell_type": "code",
   "execution_count": 446,
   "metadata": {},
   "outputs": [
    {
     "name": "stdout",
     "output_type": "stream",
     "text": [
      "PATH: http://127.0.0.1:8001/job/\n",
      "db: {db_name: testresults, host: 127.0.0.1, port: 27017}\n",
      "name:\n",
      "  test:\n",
      "    id: 64\n",
      "    pk: 48\n",
      "    to_sum:\n",
      "      1: [Tests, SmokeTests]\n",
      "      2: [FunctionalTests]\n",
      "user: {password: password, username: new_user}\n",
      "\n"
     ]
    },
    {
     "data": {
      "text/plain": [
       "{'username': 'new_user', 'password': 'password'}"
      ]
     },
     "execution_count": 446,
     "metadata": {},
     "output_type": "execute_result"
    }
   ],
   "source": [
    "config = yaml.load(open('config.yaml'))\n",
    "PATH = 'http://127.0.0.1:8001/job/test/7/testReport/api/python?pretty=true'\n",
    "print(yaml.dump(config))\n",
    "config['user']"
   ]
  },
  {
   "cell_type": "code",
   "execution_count": 452,
   "metadata": {},
   "outputs": [],
   "source": [
    "obj = eval(urllib.request.urlopen(PATH).read())"
   ]
  },
  {
   "cell_type": "code",
   "execution_count": 451,
   "metadata": {},
   "outputs": [
    {
     "data": {
      "text/plain": [
       "{'_class': 'hudson.model.FreeStyleBuild',\n",
       " 'actions': [{'_class': 'hudson.model.CauseAction',\n",
       "   'causes': [{'_class': 'hudson.model.Cause$UserIdCause',\n",
       "     'shortDescription': 'Started by user oleshko alexander',\n",
       "     'userId': 'alexander135',\n",
       "     'userName': 'oleshko alexander'}]},\n",
       "  {'_class': 'hudson.tasks.junit.TestResultAction',\n",
       "   'failCount': 10,\n",
       "   'skipCount': 191,\n",
       "   'totalCount': 437,\n",
       "   'urlName': 'testReport'},\n",
       "  {},\n",
       "  {}],\n",
       " 'artifacts': [],\n",
       " 'building': False,\n",
       " 'description': None,\n",
       " 'displayName': '#65',\n",
       " 'duration': 252,\n",
       " 'estimatedDuration': 665,\n",
       " 'executor': None,\n",
       " 'fullDisplayName': 'test #65',\n",
       " 'id': '65',\n",
       " 'keepLog': False,\n",
       " 'number': 65,\n",
       " 'queueId': 57,\n",
       " 'result': 'UNSTABLE',\n",
       " 'timestamp': 1556259688111,\n",
       " 'url': 'http://127.0.0.1:8001/job/test/65/',\n",
       " 'builtOn': '',\n",
       " 'changeSet': {'_class': 'hudson.scm.EmptyChangeLogSet',\n",
       "  'items': [],\n",
       "  'kind': None}}"
      ]
     },
     "execution_count": 451,
     "metadata": {},
     "output_type": "execute_result"
    }
   ],
   "source": [
    "password_mgr = urllib.request.HTTPPasswordMgrWithPriorAuth()\n",
    "top_level_url = \"http://127.0.0.1:8001/\"\n",
    "password_mgr.add_password(None, top_level_url, config['user']['username'], config['user']['password'], is_authenticated = True)\n",
    "handler = urllib.request.HTTPBasicAuthHandler(password_mgr)\n",
    "opener = urllib.request.build_opener(handler)\n",
    "urllib.request.install_opener(opener)\n",
    "cur = eval(urllib.request.urlopen(curpath).read())\n",
    "cur"
   ]
  },
  {
   "cell_type": "code",
   "execution_count": 500,
   "metadata": {},
   "outputs": [],
   "source": [
    "1146\n",
    "time.localtime(1556267985240/1000)\n",
    "time.strftime('%Y-%m-%d %H:%M:%S', time.localtime(1556267985240/1000))\n",
    "datetime.fromtimestamp(1556267985240/1000).strftime('%Y-%m-%d %H:%M:%S')\n",
    "datetime.today().strftime('%Y-%m-%d %H:%M:%S')\n",
    "config['last_update'] = datetime.today().strftime('%Y-%m-%d %H:%M:%S')"
   ]
  },
  {
   "cell_type": "code",
   "execution_count": 383,
   "metadata": {},
   "outputs": [
    {
     "name": "stdout",
     "output_type": "stream",
     "text": [
      "already up to date\n",
      "{'job': {'name': 'test', 'id': 57, 'date': '2019-04-17 18:18:14', 'pk': 40}, 'Tests': {'passed': 195, 'failed': 9, 'skipped': 66, 'total': 270, 'succeed': 95.59}, 'SmokeTests': {'passed': 5, 'failed': 0, 'skipped': 5, 'total': 10, 'succeed': 100.0}, 'FunctionalTests': {'passed': 36, 'failed': 1, 'skipped': 120, 'total': 157, 'succeed': 97.3}, '_id': ObjectId('5cb76deef13bc4117603fd29')}\n"
     ]
    }
   ],
   "source": [
    "config = yaml.load(open('config.yaml'))\n",
    "for curname in config['name'].keys():\n",
    "    curpath = config['PATH'] + curname + '/lastCompletedBuild/api/python?pretty=true'\n",
    "    cur = eval(urllib.request.urlopen(curpath).read())\n",
    "    if int(cur['id']) != (config['name'][curname]['id']):\n",
    "            names = []\n",
    "            res = {\"job\":{'name': curname,'id':int(cur['id']), 'date': datetime.utcfromtimestamp(cur['timestamp']/1000).strftime('%Y-%m-%d %H:%M:%S')}}\n",
    "            path = config['PATH'] + curname + '/' + cur['id'] + '/' + curname+ 'Report/api/python?pretty=true'\n",
    "            obj = eval(urllib.request.urlopen(path).read())\n",
    "            for i in obj['suites'][0]['cases']:\n",
    "                name = re.findall(r'\\..+\\.', i['className'])[0].split('.')[1]\n",
    "                if name not in res.keys():\n",
    "                    names.append(name)\n",
    "                    res[name] = {'passed':0, 'failed':0, 'skipped':0, 'total':0}\n",
    "                res[name]['total'] += 1\n",
    "                if i['skipped'] == False:\n",
    "                    if i['status'] != 'FAILED':\n",
    "                        res[name]['passed'] += 1\n",
    "                    else:\n",
    "                        res[name]['failed'] += 1\n",
    "                else:\n",
    "                    res[name]['skipped'] += 1\n",
    "\n",
    "            for name in names:\n",
    "                res[name]['succeed'] = round(res[name]['passed']/(res[name]['passed'] + res[name]['failed'])*100, 2)\n",
    "\n",
    "            with open(curname + '.json', 'w') as file:\n",
    "                      json.dump(res, file)\n",
    "\n",
    "            pk = mongoSave(res,curname)\n",
    "\n",
    "            config['name'][curname]['id'] = int(cur['id'])\n",
    "            config['name'][curname]['pk'] = pk\n",
    "\n",
    "\n",
    "            with open('config.yaml', 'w') as f:\n",
    "                yaml.dump(config, f, default_flow_style=False)\n",
    "\n",
    "            print('Done')\n",
    "    else:\n",
    "        print('already up to date')\n",
    "        \n",
    "        \n",
    "        \n",
    "def mongoSave(result, jobname):\n",
    "    conn = pymongo.MongoClient()\n",
    "    db = conn.testresults\n",
    "    coll = db[jobname]\n",
    "    result['job']['pk'] = coll.find().count() + 1\n",
    "    coll.insert_one(result)\n",
    "    return result['job']['pk']\n",
    "        \n",
    "print(res)        "
   ]
  },
  {
   "cell_type": "code",
   "execution_count": 391,
   "metadata": {},
   "outputs": [
    {
     "name": "stdout",
     "output_type": "stream",
     "text": [
      "['Tests', 'SmokeTests']\n",
      "['FunctionalTests']\n"
     ]
    }
   ],
   "source": [
    "    for type in config['name']['test']['to_sum']:\n",
    "            print(config['name']['test']['to_sum'][type])"
   ]
  },
  {
   "cell_type": "code",
   "execution_count": 408,
   "metadata": {},
   "outputs": [
    {
     "name": "stdout",
     "output_type": "stream",
     "text": [
      "_id\n",
      "job\n",
      "Tests\n"
     ]
    }
   ],
   "source": [
    "conn = pymongo.MongoClient('127.0.0.1', 27017)\n",
    "db = conn.testresults\n",
    "coll = db['test']\n",
    "c = coll.find_one({\"job.id\": \"17\"})\n",
    "for name in c:\n",
    "    print(name)"
   ]
  },
  {
   "cell_type": "code",
   "execution_count": 318,
   "metadata": {},
   "outputs": [],
   "source": [
    "# res = {}\n",
    "# for i in obj['suites'][0]['cases']:\n",
    "#     name = re.findall(r'\\..+\\.', i['className'])[0].split('.')[1]\n",
    "#     if name not in res.keys() :\n",
    "#         res[name] = {'passed':0, 'failed':0, 'skipped':0, 'total':0}\n",
    "#     res[name]['total'] += 1\n",
    "#     if i['skipped'] == False:\n",
    "#         if i['status'] == 'PASSED':\n",
    "#             res[name]['passed'] += 1\n",
    "#         else:\n",
    "#             res[name]['failed'] += 1\n",
    "#     else:\n",
    "#         res[name]['skipped'] += 1\n",
    "        \n",
    "# for name in res.keys():\n",
    "#     res[name]['succeed'] = round(res[name]['passed']/(res[name]['passed'] + res[name]['failed'])*100, 2)\n",
    "    \n",
    "# with open('results.json', 'w') as file:\n",
    "#           json.dump(res, file)\n",
    "        \n",
    "# try:           \n",
    "#     with open ('data.pickle', 'rb') as f:\n",
    "#         data_graf = pickle.load(f)\n",
    "# except:\n",
    "#     data_graf = []\n",
    "        \n",
    "    \n",
    "# for name in res:\n",
    "#     data_graf.append(res[name]['succeed'])\n",
    "# with open ('data.pickle', 'wb') as data:\n",
    "#     pickle.dump(data_graf, data)\n",
    "    "
   ]
  },
  {
   "cell_type": "code",
   "execution_count": 258,
   "metadata": {},
   "outputs": [
    {
     "name": "stdout",
     "output_type": "stream",
     "text": [
      "2019-04-03 12:29:35\n"
     ]
    }
   ],
   "source": [
    "res\n",
    "print(datetime.utcfromtimestamp(cur['timestamp']/1000).strftime('%Y-%m-%d %H:%M:%S'))"
   ]
  },
  {
   "cell_type": "code",
   "execution_count": 288,
   "metadata": {},
   "outputs": [
    {
     "name": "stdout",
     "output_type": "stream",
     "text": [
      "17\n"
     ]
    }
   ],
   "source": [
    "config['name']\n",
    "for name in config['name'].keys():\n",
    "    print(config['name'][name])"
   ]
  },
  {
   "cell_type": "code",
   "execution_count": 339,
   "metadata": {},
   "outputs": [],
   "source": [
    "my_cron = CronTab(user = 'alexandroleshko')\n",
    "my_cron.remove_all()\n",
    "my_cron.write()"
   ]
  },
  {
   "cell_type": "code",
   "execution_count": 406,
   "metadata": {},
   "outputs": [
    {
     "name": "stdout",
     "output_type": "stream",
     "text": [
      "('_id', ObjectId('5cab54b9f13bc4117603fcfc'))\n",
      "('job', {'name': 'test', 'id': '17', 'date': '2019-04-08 14:03:16'})\n",
      "('Tests', {'passed': 110, 'failed': 6, 'skipped': 14, 'total': 130, 'succeed': 94.83})\n"
     ]
    }
   ],
   "source": []
  },
  {
   "cell_type": "code",
   "execution_count": 502,
   "metadata": {},
   "outputs": [
    {
     "ename": "SyntaxError",
     "evalue": "invalid syntax (<ipython-input-502-a227887c319a>, line 3)",
     "output_type": "error",
     "traceback": [
      "\u001b[0;36m  File \u001b[0;32m\"<ipython-input-502-a227887c319a>\"\u001b[0;36m, line \u001b[0;32m3\u001b[0m\n\u001b[0;31m    coll.insert_one('ping':'pong')\u001b[0m\n\u001b[0m                          ^\u001b[0m\n\u001b[0;31mSyntaxError\u001b[0m\u001b[0;31m:\u001b[0m invalid syntax\n"
     ]
    }
   ],
   "source": [
    "db = conn.willwork\n",
    "coll = db['really']\n",
    "coll.insert_one({'ping':'pong'})"
   ]
  },
  {
   "cell_type": "code",
   "execution_count": null,
   "metadata": {},
   "outputs": [],
   "source": []
  }
 ],
 "metadata": {
  "kernelspec": {
   "display_name": "Python 3",
   "language": "python",
   "name": "python3"
  },
  "language_info": {
   "codemirror_mode": {
    "name": "ipython",
    "version": 3
   },
   "file_extension": ".py",
   "mimetype": "text/x-python",
   "name": "python",
   "nbconvert_exporter": "python",
   "pygments_lexer": "ipython3",
   "version": "3.6.5"
  }
 },
 "nbformat": 4,
 "nbformat_minor": 2
}
